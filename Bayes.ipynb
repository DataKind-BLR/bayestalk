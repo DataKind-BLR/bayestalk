{
 "cells": [
  {
   "cell_type": "markdown",
   "metadata": {},
   "source": [
    "## Baye's Formula\n",
    "\n",
    "                                P(A|B) = P(B|A)*P(A) / P(B)"
   ]
  },
  {
   "cell_type": "markdown",
   "metadata": {},
   "source": [
    "Let's begin with asking the right questions this time  :)"
   ]
  },
  {
   "cell_type": "markdown",
   "metadata": {},
   "source": [
    "*Before we begin lets introduce some more useful terms : -*\n",
    "\n",
    "##### Distribution\n",
    "TODO: Add stuff\n",
    "\n",
    "##### Probabiliy Mass Function\n",
    "Given a Hypothesis h, the function returns its probability. This basically maps each hypothesis (or a possible event) to its\n",
    "probability, which exactly what we did in the last notebook, while defining the prior.\n",
    "\n",
    "    prior = {1: 1/6.0, \n",
    "             2: 1/6.0,\n",
    "             3: 1/6.0,\n",
    "             4: 1/6.0,\n",
    "             5: 1/6.0,\n",
    "             6: 1/6.0}\n",
    "   \n",
    "We won't be implementing it here, instead we are going to use the pmf object defined by prof. Alen b. downey author of ThinkBayes. I will explain some of the helpful functions that he has added as we go."
   ]
  },
  {
   "cell_type": "code",
   "execution_count": 34,
   "metadata": {
    "collapsed": false
   },
   "outputs": [],
   "source": [
    "%matplotlib inline\n",
    "\n",
    "from thinkbayes2 import Pmf\n",
    "import matplotlib.pyplot as plt"
   ]
  },
  {
   "cell_type": "markdown",
   "metadata": {},
   "source": [
    "Now let's define a dice using the Pmf class\n",
    "\n",
    "The Pmf class inherits the dict class, so you can manipulate it simply as a dict"
   ]
  },
  {
   "cell_type": "code",
   "execution_count": 7,
   "metadata": {
    "collapsed": true
   },
   "outputs": [],
   "source": [
    "# Creating a 6 sided Dice, by default pmf assumes all the events are equally probable.\n",
    "six_sided_dice = Pmf(range(1,7))"
   ]
  },
  {
   "cell_type": "code",
   "execution_count": 9,
   "metadata": {
    "collapsed": false
   },
   "outputs": [
    {
     "name": "stdout",
     "output_type": "stream",
     "text": [
      "1 0.16666666666666666\n",
      "2 0.16666666666666666\n",
      "3 0.16666666666666666\n",
      "4 0.16666666666666666\n",
      "5 0.16666666666666666\n",
      "6 0.16666666666666666\n"
     ]
    }
   ],
   "source": [
    "# print shows you the probability of all the hypothesis. \n",
    "six_sided_dice.Print()"
   ]
  },
  {
   "cell_type": "code",
   "execution_count": 13,
   "metadata": {
    "collapsed": false
   },
   "outputs": [
    {
     "data": {
      "text/plain": [
       "0.16666666666666666"
      ]
     },
     "execution_count": 13,
     "metadata": {},
     "output_type": "execute_result"
    }
   ],
   "source": [
    "# This will give you the probability of 1\n",
    "six_sided_dice[1]"
   ]
  },
  {
   "cell_type": "code",
   "execution_count": 80,
   "metadata": {
    "collapsed": false
   },
   "outputs": [
    {
     "data": {
      "image/png": "[encoded data removed]",
      "text/plain": [
       "<matplotlib.figure.Figure at 0x2f1bfea9a20>"
      ]
     },
     "metadata": {},
     "output_type": "display_data"
    }
   ],
   "source": [
    "def plot_pmf(pmf, xlabel='x', ylabel='y'):\n",
    "    \"\"\"A ploting helper function to plot the pmf values.\"\"\"\n",
    "    x, y = list(pmf.Render())\n",
    "    plt.bar(x, y, align='center')\n",
    "    plt.xticks(x)\n",
    "    \n",
    "plot_pmf(six_sided_dice)"
   ]
  },
  {
   "cell_type": "markdown",
   "metadata": {},
   "source": [
    "### The Die Problem\n",
    "\n",
    "We have 4 die 6 sided, 8 sided, 16 sided and 20 sided. Suppose I select a die, roll it, and get a 8. What is the probability that I rolled each die ?\n",
    "\n",
    "Objective: Calculate the probability for each dice. Given that I rolled a 8"
   ]
  },
  {
   "cell_type": "markdown",
   "metadata": {},
   "source": [
    "First step, Set our belief(Prior). Lets take a uniform distribution as prior .i.e. all dices are equally probable"
   ]
  },
  {
   "cell_type": "code",
   "execution_count": 90,
   "metadata": {
    "collapsed": false
   },
   "outputs": [
    {
     "name": "stdout",
     "output_type": "stream",
     "text": [
      "4 0.2\n",
      "6 0.2\n",
      "8 0.2\n",
      "16 0.2\n",
      "20 0.2\n"
     ]
    }
   ],
   "source": [
    "# Create a pmf object representing our belief\n",
    "box = Pmf([4, 6, 8, 16, 20])\n",
    "box.Print()"
   ]
  },
  {
   "cell_type": "markdown",
   "metadata": {},
   "source": [
    "We have observed that the dice roll gave us 8.\n",
    "So the second step is to update our prior, using \n",
    "        P(B|A)*P(A)\n",
    "        \n",
    "P(A) is our prior and P(B|A) in this case would be :-\n",
    "        \n",
    "        Probability of dice being the N sided die, given that we rolled a 8\n",
    "\n",
    "Similarly we will emulate this Update for all the hypothesis/die"
   ]
  },
  {
   "cell_type": "code",
   "execution_count": 92,
   "metadata": {
    "collapsed": true
   },
   "outputs": [],
   "source": [
    "# Exercise 2.1 Calculate P(B|A)\n",
    "box[4] *=\n",
    "box[6] *=\n",
    "box[8] *=\n",
    "box[16] *=\n",
    "box[20] *="
   ]
  },
  {
   "cell_type": "code",
   "execution_count": 93,
   "metadata": {
    "collapsed": false
   },
   "outputs": [
    {
     "name": "stdout",
     "output_type": "stream",
     "text": [
      "4 0.0\n",
      "6 0.0\n",
      "8 0.5263157894736842\n",
      "16 0.2631578947368421\n",
      "20 0.2105263157894737\n"
     ]
    }
   ],
   "source": [
    "box.Normalize()\n",
    "box.Print()"
   ]
  },
  {
   "cell_type": "markdown",
   "metadata": {},
   "source": [
    "Now, lets try out multiple dice rolls. But first to make it simpler lets break the process down into functions"
   ]
  },
  {
   "cell_type": "code",
   "execution_count": null,
   "metadata": {
    "collapsed": true
   },
   "outputs": [],
   "source": [
    "def likelihood():\n",
    "    pass\n",
    "\n",
    "def update(data):\n",
    "    pass"
   ]
  }
 ],
 "metadata": {
  "anaconda-cloud": {},
  "kernelspec": {
   "display_name": "Python [default]",
   "language": "python",
   "name": "python3"
  },
  "language_info": {
   "codemirror_mode": {
    "name": "ipython",
    "version": 3
   },
   "file_extension": ".py",
   "mimetype": "text/x-python",
   "name": "python",
   "nbconvert_exporter": "python",
   "pygments_lexer": "ipython3",
   "version": "3.5.2"
  }
 },
 "nbformat": 4,
 "nbformat_minor": 1
}
