{
 "cells": [
  {
   "cell_type": "markdown",
   "metadata": {},
   "source": [
    "## Prior\n",
    "\n",
    "A representation of our belief about the hypothesis. How can it affect our result (posterior) ?\n",
    "Let's find out!"
   ]
  },
  {
   "cell_type": "code",
   "execution_count": 1,
   "metadata": {
    "collapsed": true
   },
   "outputs": [],
   "source": [
    "%matplotlib inline\n",
    "from thinkbayes2 import Suite\n",
    "import thinkplot"
   ]
  },
  {
   "cell_type": "markdown",
   "metadata": {},
   "source": [
    "The **Suite** class extends the Pmf class and encapsulates the update Framework, which in short mean that you don't have to write the *update* function anymore.\n",
    "\n",
    "**Update Framework**\n",
    "\n",
    "The update framework, takes your prior and multiplies it with the likelihood of the hypothesis given the data, which is \n",
    "equal to \n",
    "    \n",
    "        P(Data)*P(Hypothesis|Data)\n",
    "\n",
    "performing a bayesian update. We have encapsulated it in the Suite Class, so from now on we will only be focusing on the likelihood function, which calculates by how much you should update your prior."
   ]
  },
  {
   "cell_type": "markdown",
   "metadata": {},
   "source": [
    "### Coin Problem\n",
    "\n",
    "Lets say, your close friend who has a biased coin that returns Head 70% of the time. He comes to you with a random coin and bets you some money that the coin would be head, you don't know if the coin is fair or not. Now, he says you can do 5 flips to judge whether the coin is fair or not.\n",
    "\n",
    "We have 2 hypothesis in this problem statement \n",
    "\n",
    "1. The coin is fair\n",
    "2. The coin is based\n",
    "\n",
    "what will be the likelihood function to figure out whether the coin is fair or not ?\n",
    "\n",
    "Our prior will capture out belief that the coin is biased. What is the percentage chance that the coin is biased ?"
   ]
  },
  {
   "cell_type": "code",
   "execution_count": 2,
   "metadata": {
    "collapsed": false
   },
   "outputs": [],
   "source": [
    "class Coin(Suite):\n",
    "    \n",
    "    def Likelihood(self, data, hypo):\n",
    "        # Exercise 3.1 Is this likelihood correct ?\n",
    "        x = hypo / 100\n",
    "        if data == 'H':\n",
    "            return x\n",
    "        else:\n",
    "            return 1 - x"
   ]
  },
  {
   "cell_type": "markdown",
   "metadata": {},
   "source": [
    "Lets try out a uniform prior, that is all values are equally probable."
   ]
  },
  {
   "cell_type": "code",
   "execution_count": 3,
   "metadata": {
    "collapsed": true
   },
   "outputs": [],
   "source": [
    "coin_suite = Coin(range(101))"
   ]
  },
  {
   "cell_type": "code",
   "execution_count": 4,
   "metadata": {
    "collapsed": false
   },
   "outputs": [
    {
     "data": {
      "image/png": "[encoded data removed]",
      "text/plain": [
       "<matplotlib.figure.Figure at 0x7f8d642257b8>"
      ]
     },
     "metadata": {},
     "output_type": "display_data"
    }
   ],
   "source": [
    "thinkplot.Pdf(coin_suite)"
   ]
  },
  {
   "cell_type": "markdown",
   "metadata": {},
   "source": [
    "*Note:* UpdateSet does a bulk update on the prior .i.e. it will loop through all the entries given and update the prior."
   ]
  },
  {
   "cell_type": "code",
   "execution_count": 5,
   "metadata": {
    "collapsed": false
   },
   "outputs": [
    {
     "data": {
      "text/plain": [
       "0.016501649999999993"
      ]
     },
     "execution_count": 5,
     "metadata": {},
     "output_type": "execute_result"
    }
   ],
   "source": [
    "coin_suite.UpdateSet('HHTTH')"
   ]
  },
  {
   "cell_type": "code",
   "execution_count": 6,
   "metadata": {
    "collapsed": false
   },
   "outputs": [
    {
     "data": {
      "image/png": "[encoded data removed]",
      "text/plain": [
       "<matplotlib.figure.Figure at 0x7f8d642256a0>"
      ]
     },
     "metadata": {},
     "output_type": "display_data"
    }
   ],
   "source": [
    "thinkplot.Pdf(coin_suite)"
   ]
  },
  {
   "cell_type": "markdown",
   "metadata": {},
   "source": [
    "We have the posterior that tells us what we should believe based on the data and our prior, but how do we interpret it ?"
   ]
  },
  {
   "cell_type": "markdown",
   "metadata": {},
   "source": [
    "###  Summarizing the Posterior\n",
    "\n",
    "The way to interpret confidence from a posterior distribution is the wider the range, the more unsure the results are. In the chart above we are not sure of our results, but if see more data the posterior distribution will become narrower.\n",
    "\n",
    "There are functions like that can provide statistical inference: -\n",
    "\n",
    "1. Mean: the mean of the prior.\n",
    "2. MaximumLikelihood: the Peak.\n",
    "3. CredibleInterval: The credibleinterval function returns a range of values, telling us that we are 90% sure that the true probability lies in that particular interval.\n",
    "\n",
    "All these functions and more are implemented in the Suite class."
   ]
  },
  {
   "cell_type": "code",
   "execution_count": 7,
   "metadata": {
    "collapsed": false
   },
   "outputs": [
    {
     "data": {
      "text/plain": [
       "57.142855714428585"
      ]
     },
     "execution_count": 7,
     "metadata": {},
     "output_type": "execute_result"
    }
   ],
   "source": [
    "coin_suite.Mean()"
   ]
  },
  {
   "cell_type": "code",
   "execution_count": 8,
   "metadata": {
    "collapsed": false
   },
   "outputs": [
    {
     "data": {
      "text/plain": [
       "60"
      ]
     },
     "execution_count": 8,
     "metadata": {},
     "output_type": "execute_result"
    }
   ],
   "source": [
    "coin_suite.MaximumLikelihood()"
   ]
  },
  {
   "cell_type": "code",
   "execution_count": 9,
   "metadata": {
    "collapsed": false
   },
   "outputs": [
    {
     "data": {
      "text/plain": [
       "(22, 88)"
      ]
     },
     "execution_count": 9,
     "metadata": {},
     "output_type": "execute_result"
    }
   ],
   "source": [
    "# we are 95% sure that the true probability of the coin lies in that range, even though the range is huge.\n",
    "coin_suite.CredibleInterval(95)"
   ]
  },
  {
   "cell_type": "markdown",
   "metadata": {},
   "source": [
    "### Coming back to our problem statement\n",
    "So far, we have been using uniform prior saying all hypothesis are equally probable.Let's assume we know our friend is mischievous and we believe that there is a 60% - 80% chance that the coin is biased. \n",
    "\n",
    "Then we should let our prior represent this belief. The way we do that is we update the coin_suite with a distribution representing our belief. I am using a normal distribution, saying that there is more probability that its the same coin that comes up head 70% of the time.\n",
    "\n",
    "I used scipy.stats to generate the distribution, there are lots of distribution that you can learn about in the api reference page, https://docs.scipy.org/doc/scipy/reference/stats.html. We should choose the most optimal distribution that represents our data or belief. For the moment we are going to keep this aside, but this is a TODO for anyone who is interested to know more about bayesian statistics or modeling to learn about these distributions."
   ]
  },
  {
   "cell_type": "code",
   "execution_count": 10,
   "metadata": {
    "collapsed": false
   },
   "outputs": [
    {
     "data": {
      "text/plain": [
       "0.9999745744202837"
      ]
     },
     "execution_count": 10,
     "metadata": {},
     "output_type": "execute_result"
    }
   ],
   "source": [
    "# Lets reinitialize and set our prior\n",
    "coin_suite = Coin(range(101))\n",
    "from scipy.stats import norm\n",
    "\n",
    "prior = norm.pdf(range(101), loc=60, scale=10)\n",
    "for index in range (101):\n",
    "    coin_suite[index] = prior[index]\n",
    "coin_suite.Normalize()"
   ]
  },
  {
   "cell_type": "code",
   "execution_count": 11,
   "metadata": {
    "collapsed": false
   },
   "outputs": [
    {
     "data": {
      "image/png": "[encoded data removed]",
      "text/plain": [
       "<matplotlib.figure.Figure at 0x7f8d6183f080>"
      ]
     },
     "metadata": {},
     "output_type": "display_data"
    }
   ],
   "source": [
    "thinkplot.Pdf(coin_suite)"
   ]
  },
  {
   "cell_type": "code",
   "execution_count": 12,
   "metadata": {
    "collapsed": false
   },
   "outputs": [
    {
     "data": {
      "image/png": "[encoded data removed]",
      "text/plain": [
       "<matplotlib.figure.Figure at 0x7f8d612c2898>"
      ]
     },
     "metadata": {},
     "output_type": "display_data"
    }
   ],
   "source": [
    "coin_suite.UpdateSet('HTTHT')\n",
    "thinkplot.Pdf(coin_suite)"
   ]
  },
  {
   "cell_type": "markdown",
   "metadata": {},
   "source": [
    "**Exercise 3.2** Do the same process above, Initialize a prior that you would believe to be true.\n",
    "\n",
    "**Exercise 3.3** Try a bigger sequence of Heads and Tails.\n",
    "\n",
    "**Exercise 3.4** Summarize the posterior from both the exercises above."
   ]
  },
  {
   "cell_type": "code",
   "execution_count": 13,
   "metadata": {
    "collapsed": true
   },
   "outputs": [],
   "source": [
    "# Solution Here"
   ]
  },
  {
   "cell_type": "code",
   "execution_count": 14,
   "metadata": {
    "collapsed": true
   },
   "outputs": [],
   "source": [
    "# Solution Here"
   ]
  },
  {
   "cell_type": "code",
   "execution_count": 15,
   "metadata": {
    "collapsed": true
   },
   "outputs": [],
   "source": [
    "# Solution Here"
   ]
  }
 ],
 "metadata": {
  "anaconda-cloud": {},
  "kernelspec": {
   "display_name": "Python [default]",
   "language": "python",
   "name": "python3"
  },
  "language_info": {
   "codemirror_mode": {
    "name": "ipython",
    "version": 3
   },
   "file_extension": ".py",
   "mimetype": "text/x-python",
   "name": "python",
   "nbconvert_exporter": "python",
   "pygments_lexer": "ipython3",
   "version": "3.5.2"
  }
 },
 "nbformat": 4,
 "nbformat_minor": 1
}
